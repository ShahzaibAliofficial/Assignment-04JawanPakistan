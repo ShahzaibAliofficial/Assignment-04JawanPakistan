{
 "cells": [
  {
   "cell_type": "markdown",
   "id": "9362370d-c3e5-4917-ac47-816491c45121",
   "metadata": {},
   "source": [
    "# Assignment # 04"
   ]
  },
  {
   "cell_type": "markdown",
   "id": "576729d7-5825-49c5-a82b-b5cb6a5370cb",
   "metadata": {},
   "source": [
    "### Liist & Slicing"
   ]
  },
  {
   "cell_type": "code",
   "execution_count": 1,
   "id": "fa6aef45-f391-4048-bdb1-49d14edb2dac",
   "metadata": {},
   "outputs": [
    {
     "name": "stdout",
     "output_type": "stream",
     "text": [
      "Dear Albert, \n",
      " You are invited for today's dinner party.\n",
      "\n",
      "Dear John, \n",
      " You are invited for today's dinner party.\n",
      "\n",
      "Dear Ali, \n",
      " You are invited for today's dinner party.\n",
      "\n"
     ]
    }
   ],
   "source": [
    "guest_list = [\"Albert\",\"John\",\"Ali\"]\n",
    "print(f\"Dear {guest_list[0]}, \\n You are invited for today's dinner party.\\n\") \n",
    "print(f\"Dear {guest_list[1]}, \\n You are invited for today's dinner party.\\n\")\n",
    "print(f\"Dear {guest_list[2]}, \\n You are invited for today's dinner party.\\n\")"
   ]
  },
  {
   "cell_type": "code",
   "execution_count": 2,
   "id": "66879dcb-1fcd-4287-bc23-f8cc0ff90ac6",
   "metadata": {},
   "outputs": [
    {
     "name": "stdout",
     "output_type": "stream",
     "text": [
      "Mr Albert, can't attend today's dinner party due to some emergency\n",
      "\n",
      "\n",
      "This is an updated invitation list\n",
      "\n",
      "Dear Malaika, \n",
      " You are invited for today's dinner party.\n",
      "\n",
      "Dear John, \n",
      " You are invited for today's dinner party.\n",
      "\n",
      "Dear Ali, \n",
      " You are invited for today's dinner party.\n",
      "\n"
     ]
    }
   ],
   "source": [
    "print(f\"Mr {guest_list[0]}, can't attend today's dinner party due to some emergency\\n\")\n",
    "guest_list[0] = 'Malaika'\n",
    "print('\\nThis is an updated invitation list\\n')\n",
    "print(f\"Dear {guest_list[0]}, \\n You are invited for today's dinner party.\\n\") \n",
    "print(f\"Dear {guest_list[1]}, \\n You are invited for today's dinner party.\\n\")\n",
    "print(f\"Dear {guest_list[2]}, \\n You are invited for today's dinner party.\\n\")"
   ]
  },
  {
   "cell_type": "code",
   "execution_count": 3,
   "id": "9ddcdfda-0dad-45d7-8c66-9c80b6a7767f",
   "metadata": {},
   "outputs": [
    {
     "name": "stdout",
     "output_type": "stream",
     "text": [
      "\n",
      "I found aa bigger dinner table so the more space is available for more 3 persons\n",
      "\n",
      "Dear Shahzaib, \n",
      " You are invited for today's dinner party.\n",
      "\n",
      "Dear Malaika, \n",
      " You are invited for today's dinner party.\n",
      "\n",
      "Dear Jenny, \n",
      " You are invited for today's dinner party.\n",
      "\n",
      "Dear John, \n",
      " You are invited for today's dinner party.\n",
      "\n",
      "Dear Ali, \n",
      " You are invited for today's dinner party.\n",
      "\n",
      "Dear Aliza, \n",
      " You are invited for today's dinner party.\n",
      "\n",
      "My bigger dinner table will not arrive on dinner time so i can invite only Two people for dinner\n",
      "\n",
      "I'm Sorry Mr/Ms Shahzaib I can't invite you for dinner today.\n",
      "\n",
      "I'm Sorry Mr/Ms Malaika I can't invite you for dinner today.\n",
      "\n",
      "I'm Sorry Mr/Ms Jenny I can't invite you for dinner today.\n",
      "\n",
      "I'm Sorry Mr/Ms John I can't invite you for dinner today.\n",
      "\n"
     ]
    }
   ],
   "source": [
    "print('\\nI found aa bigger dinner table so the more space is available for more 3 persons\\n')\n",
    "guest_list.insert(0,'Shahzaib')\n",
    "guest_list.insert(2,'Jenny')\n",
    "guest_list.append('Aliza')\n",
    "print(f\"Dear {guest_list[0]}, \\n You are invited for today's dinner party.\\n\") \n",
    "print(f\"Dear {guest_list[1]}, \\n You are invited for today's dinner party.\\n\")\n",
    "print(f\"Dear {guest_list[2]}, \\n You are invited for today's dinner party.\\n\")\n",
    "print(f\"Dear {guest_list[3]}, \\n You are invited for today's dinner party.\\n\")\n",
    "print(f\"Dear {guest_list[4]}, \\n You are invited for today's dinner party.\\n\")\n",
    "print(f\"Dear {guest_list[5]}, \\n You are invited for today's dinner party.\\n\")\n",
    "print('My bigger dinner table will not arrive on dinner time so i can invite only Two people for dinner\\n')\n",
    "print(f\"I'm Sorry Mr/Ms {guest_list[0]} I can't invite you for dinner today.\\n\")\n",
    "print(f\"I'm Sorry Mr/Ms {guest_list[1]} I can't invite you for dinner today.\\n\")\n",
    "print(f\"I'm Sorry Mr/Ms {guest_list[2]} I can't invite you for dinner today.\\n\")\n",
    "print(f\"I'm Sorry Mr/Ms {guest_list[3]} I can't invite you for dinner today.\\n\")"
   ]
  },
  {
   "cell_type": "code",
   "execution_count": 4,
   "id": "e0b9e0fc-70d9-4622-9d1e-bc4c3607784b",
   "metadata": {},
   "outputs": [
    {
     "name": "stdout",
     "output_type": "stream",
     "text": [
      "Dear Ali, \n",
      " You are still invited for today's dinner party.\n",
      "\n",
      "Dear Aliza, \n",
      " You are still invited for today's dinner party.\n",
      "\n"
     ]
    }
   ],
   "source": [
    "guest_list.pop(0)\n",
    "guest_list.pop(0)\n",
    "guest_list.pop(0)\n",
    "guest_list.pop(0)\n",
    "print(f\"Dear {guest_list[0]}, \\n You are still invited for today's dinner party.\\n\")\n",
    "print(f\"Dear {guest_list[1]}, \\n You are still invited for today's dinner party.\\n\")"
   ]
  },
  {
   "cell_type": "code",
   "execution_count": 32,
   "id": "b780a9c3-17b0-409e-9a33-d560c3693ab7",
   "metadata": {},
   "outputs": [
    {
     "data": {
      "text/plain": [
       "[]"
      ]
     },
     "execution_count": 32,
     "metadata": {},
     "output_type": "execute_result"
    }
   ],
   "source": [
    "del guest_list[0:1]\n",
    "guest_list"
   ]
  },
  {
   "cell_type": "code",
   "execution_count": 6,
   "id": "b9faed3e-39f9-401b-a274-8ff1cd4a47db",
   "metadata": {},
   "outputs": [
    {
     "data": {
      "text/plain": [
       "['10k', '20k', '30k', '40k', '50']"
      ]
     },
     "execution_count": 6,
     "metadata": {},
     "output_type": "execute_result"
    }
   ],
   "source": [
    "new_list = ['10k','20k','30k','40k','50']\n",
    "new_list"
   ]
  },
  {
   "cell_type": "markdown",
   "id": "f34b0200-ea1c-4c32-97d8-f4274653b08c",
   "metadata": {},
   "source": [
    "### Perform Indexing"
   ]
  },
  {
   "cell_type": "code",
   "execution_count": 8,
   "id": "bf8b92b9-c1b4-4585-bf6b-0ac5b6e7f9df",
   "metadata": {},
   "outputs": [
    {
     "data": {
      "text/plain": [
       "'30k'"
      ]
     },
     "execution_count": 8,
     "metadata": {},
     "output_type": "execute_result"
    }
   ],
   "source": [
    "element_on_index_2 = new_list[2]\n",
    "element_on_index_2"
   ]
  },
  {
   "cell_type": "markdown",
   "id": "d52a71d3-9ab3-42b1-82b1-1a57d088885d",
   "metadata": {},
   "source": [
    "### Perform Slicing"
   ]
  },
  {
   "cell_type": "code",
   "execution_count": 10,
   "id": "d00f4625-f448-4f0d-88b0-6350188bed1f",
   "metadata": {},
   "outputs": [
    {
     "data": {
      "text/plain": [
       "['10k', '20k', '30k']"
      ]
     },
     "execution_count": 10,
     "metadata": {},
     "output_type": "execute_result"
    }
   ],
   "source": [
    "range_list =  new_list[0:3]\n",
    "range_list"
   ]
  },
  {
   "cell_type": "code",
   "execution_count": 22,
   "id": "b8b68770-b7ca-45b2-ab42-b2aa29d55186",
   "metadata": {},
   "outputs": [
    {
     "data": {
      "text/plain": [
       "['10k', '20k', '30k', '40k', '50']"
      ]
     },
     "execution_count": 22,
     "metadata": {},
     "output_type": "execute_result"
    }
   ],
   "source": [
    "new_list"
   ]
  },
  {
   "cell_type": "code",
   "execution_count": 26,
   "id": "832eb679-4e71-4199-ad8c-5abe78f9c0e0",
   "metadata": {},
   "outputs": [
    {
     "data": {
      "text/plain": [
       "['10k', '30k', '50']"
      ]
     },
     "execution_count": 26,
     "metadata": {},
     "output_type": "execute_result"
    }
   ],
   "source": [
    "new_list[0:5:2]"
   ]
  },
  {
   "cell_type": "code",
   "execution_count": 28,
   "id": "e7c9a737-efb7-454e-8a96-da0b2253f348",
   "metadata": {},
   "outputs": [
    {
     "data": {
      "text/plain": [
       "['20k', '40k']"
      ]
     },
     "execution_count": 28,
     "metadata": {},
     "output_type": "execute_result"
    }
   ],
   "source": [
    "new_list[1:5:2]"
   ]
  },
  {
   "cell_type": "code",
   "execution_count": null,
   "id": "4830fc3b-ba9e-41f9-9054-218668810db8",
   "metadata": {},
   "outputs": [],
   "source": []
  }
 ],
 "metadata": {
  "kernelspec": {
   "display_name": "Python 3 (ipykernel)",
   "language": "python",
   "name": "python3"
  },
  "language_info": {
   "codemirror_mode": {
    "name": "ipython",
    "version": 3
   },
   "file_extension": ".py",
   "mimetype": "text/x-python",
   "name": "python",
   "nbconvert_exporter": "python",
   "pygments_lexer": "ipython3",
   "version": "3.12.4"
  }
 },
 "nbformat": 4,
 "nbformat_minor": 5
}
